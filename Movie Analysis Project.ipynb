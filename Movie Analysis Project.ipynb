{
 "cells": [
  {
   "cell_type": "markdown",
   "metadata": {},
   "source": [
    "## 1. Business Understanding\n",
    "\n",
    "### Project Background\n",
    "Film production is a high-risk, capital-intensive industry. For a new movie studio, selecting projects with strong financial performance is essential to minimizing risk and ensuring sustainable growth.\n",
    "\n",
    "### Real-World Problem\n",
    "The studio needs to decide which films to produce by identifying those with:\n",
    "- High global gross profit and efficient budget utilization (high ROI).\n",
    "- Favorable trends in market performance over time.\n",
    "- Successful genres and proven talent (directors and actors).\n",
    "\n",
    "### Stakeholders\n",
    "- **Studio Management & Investors:** Require data-driven recommendations to allocate resources effectively.\n",
    "- **Production Teams:** Benefit by focusing on film attributes that historically correlate with success.\n",
    "\n",
    "This analysis provides a clear roadmap, enabling stakeholders to make informed decisions that address a real-world business challenge.\n"
   ]
  },
  {
   "cell_type": "markdown",
   "metadata": {},
   "source": [
    "## 2. Data Understanding\n",
    "\n",
    "### Data Sources\n",
    "1. **Movie Budgets Data:**  \n",
    "   - Contains production budgets, domestic and worldwide gross revenue, and release dates for films (post-2000).\n",
    "   - Offers insights into financial performance.\n",
    "   \n",
    "2. **IMDb Data:**  \n",
    "   - Provides film metadata including ratings, runtime, genres, and details about key personnel (actors, directors, etc.).\n",
    "   - Comes from a SQLite database (and a supplemental CSV) that enriches our analysis.\n",
    "\n",
    "### Data Properties and Relevance\n",
    "- **Temporal Coverage:** Films released from 2000 onward.\n",
    "- **Key Features:** Budget, revenues, profit, ROI, runtime, genres, cast/crew details.\n",
    "- **Utility:** The financial data combined with IMDb metadata allows us to identify trends and evaluate the efficiency of budget usage across films.\n",
    "- **Limitations:** Early encoding issues and missing values have been handled during data preparation to ensure data reliability.\n",
    "\n",
    "Confirms that the data sources are well-suited to address the studio’s problem of identifying films with high potential."
   ]
  },
  {
   "cell_type": "markdown",
   "metadata": {},
   "source": [
    "## 3. Data Preparation\n",
    "\n",
    "### Overview\n",
    "In this section, we load, clean, and merge the raw datasets to create a master dataset for analysis. Steps include:\n",
    "- Parsing dates and filtering films released from 2000 onward.\n",
    "- Converting currency strings to floats.\n",
    "- Fixing text encoding issues.\n",
    "- Calculating Global Gross Profit and ROI.\n",
    "- Merging budget data with enriched IMDb data via a composite key (\"Title & Year\")."
   ]
  },
  {
   "cell_type": "code",
   "execution_count": 8,
   "metadata": {},
   "outputs": [],
   "source": [
    "import pandas as pd\n",
    "import sqlite3\n",
    "import os\n",
    "import zipfile\n",
    "import warnings\n",
    "import matplotlib.pyplot as plt\n",
    "import seaborn as sns\n",
    "from matplotlib.ticker import StrMethodFormatter\n",
    "\n",
    "# ------------------------------------------------------------------------------\n",
    "# Basic configuration and warning suppression\n",
    "# ------------------------------------------------------------------------------\n",
    "pd.set_option('display.max_columns', None)\n",
    "pd.options.display.float_format = '{:.0f}'.format\n",
    "warnings.simplefilter('ignore')\n"
   ]
  },
  {
   "cell_type": "code",
   "execution_count": null,
   "metadata": {},
   "outputs": [
    {
     "data": {
      "text/html": [
       "<div>\n",
       "<style scoped>\n",
       "    .dataframe tbody tr th:only-of-type {\n",
       "        vertical-align: middle;\n",
       "    }\n",
       "\n",
       "    .dataframe tbody tr th {\n",
       "        vertical-align: top;\n",
       "    }\n",
       "\n",
       "    .dataframe thead th {\n",
       "        text-align: right;\n",
       "    }\n",
       "</style>\n",
       "<table border=\"1\" class=\"dataframe\">\n",
       "  <thead>\n",
       "    <tr style=\"text-align: right;\">\n",
       "      <th></th>\n",
       "      <th>id</th>\n",
       "      <th>release_date</th>\n",
       "      <th>movie</th>\n",
       "      <th>production_budget</th>\n",
       "      <th>domestic_gross</th>\n",
       "      <th>worldwide_gross</th>\n",
       "    </tr>\n",
       "  </thead>\n",
       "  <tbody>\n",
       "    <tr>\n",
       "      <th>0</th>\n",
       "      <td>1</td>\n",
       "      <td>2009-12-18</td>\n",
       "      <td>Avatar</td>\n",
       "      <td>$425,000,000</td>\n",
       "      <td>$760,507,625</td>\n",
       "      <td>$2,776,345,279</td>\n",
       "    </tr>\n",
       "    <tr>\n",
       "      <th>1</th>\n",
       "      <td>2</td>\n",
       "      <td>2011-05-20</td>\n",
       "      <td>Pirates of the Caribbean: On Stranger Tides</td>\n",
       "      <td>$410,600,000</td>\n",
       "      <td>$241,063,875</td>\n",
       "      <td>$1,045,663,875</td>\n",
       "    </tr>\n",
       "  </tbody>\n",
       "</table>\n",
       "</div>"
      ],
      "text/plain": [
       "   id release_date                                        movie  \\\n",
       "0   1   2009-12-18                                       Avatar   \n",
       "1   2   2011-05-20  Pirates of the Caribbean: On Stranger Tides   \n",
       "\n",
       "  production_budget domestic_gross worldwide_gross  \n",
       "0      $425,000,000   $760,507,625  $2,776,345,279  \n",
       "1      $410,600,000   $241,063,875  $1,045,663,875  "
      ]
     },
     "execution_count": 9,
     "metadata": {},
     "output_type": "execute_result"
    }
   ],
   "source": [
    "# ------------------------------------------------------------------------------\n",
    "# Load and Clean Budget Data\n",
    "# ------------------------------------------------------------------------------\n",
    "# Load the movie budgets CSV file (with compressed data) and parse dates.\n",
    "budgets_df = pd.read_csv('./zippedData/tn.movie_budgets.csv.gz',\n",
    "                          parse_dates=['release_date'], encoding='utf-8')\n",
    "budgets_df.head(2)"
   ]
  },
  {
   "cell_type": "code",
   "execution_count": 10,
   "metadata": {},
   "outputs": [
    {
     "data": {
      "text/html": [
       "<div>\n",
       "<style scoped>\n",
       "    .dataframe tbody tr th:only-of-type {\n",
       "        vertical-align: middle;\n",
       "    }\n",
       "\n",
       "    .dataframe tbody tr th {\n",
       "        vertical-align: top;\n",
       "    }\n",
       "\n",
       "    .dataframe thead th {\n",
       "        text-align: right;\n",
       "    }\n",
       "</style>\n",
       "<table border=\"1\" class=\"dataframe\">\n",
       "  <thead>\n",
       "    <tr style=\"text-align: right;\">\n",
       "      <th></th>\n",
       "      <th>id</th>\n",
       "      <th>release_date</th>\n",
       "      <th>movie</th>\n",
       "      <th>production_budget</th>\n",
       "      <th>domestic_gross</th>\n",
       "      <th>worldwide_gross</th>\n",
       "      <th>release_year</th>\n",
       "    </tr>\n",
       "  </thead>\n",
       "  <tbody>\n",
       "    <tr>\n",
       "      <th>0</th>\n",
       "      <td>1</td>\n",
       "      <td>2009-12-18</td>\n",
       "      <td>Avatar</td>\n",
       "      <td>$425,000,000</td>\n",
       "      <td>$760,507,625</td>\n",
       "      <td>$2,776,345,279</td>\n",
       "      <td>2009</td>\n",
       "    </tr>\n",
       "    <tr>\n",
       "      <th>1</th>\n",
       "      <td>2</td>\n",
       "      <td>2011-05-20</td>\n",
       "      <td>Pirates of the Caribbean: On Stranger Tides</td>\n",
       "      <td>$410,600,000</td>\n",
       "      <td>$241,063,875</td>\n",
       "      <td>$1,045,663,875</td>\n",
       "      <td>2011</td>\n",
       "    </tr>\n",
       "  </tbody>\n",
       "</table>\n",
       "</div>"
      ],
      "text/plain": [
       "   id release_date                                        movie  \\\n",
       "0   1   2009-12-18                                       Avatar   \n",
       "1   2   2011-05-20  Pirates of the Caribbean: On Stranger Tides   \n",
       "\n",
       "  production_budget domestic_gross worldwide_gross  release_year  \n",
       "0      $425,000,000   $760,507,625  $2,776,345,279          2009  \n",
       "1      $410,600,000   $241,063,875  $1,045,663,875          2011  "
      ]
     },
     "execution_count": 10,
     "metadata": {},
     "output_type": "execute_result"
    }
   ],
   "source": [
    "# Extract the release year from the release_date column.\n",
    "budgets_df['release_year'] = budgets_df['release_date'].dt.year\n",
    "\n",
    "# Filter out movies released before 2000.\n",
    "clean_budgets = budgets_df[budgets_df['release_year'] >= 2000]\n",
    "clean_budgets.head(2)"
   ]
  }
 ],
 "metadata": {
  "kernelspec": {
   "display_name": "Python 3",
   "language": "python",
   "name": "python3"
  },
  "language_info": {
   "codemirror_mode": {
    "name": "ipython",
    "version": 3
   },
   "file_extension": ".py",
   "mimetype": "text/x-python",
   "name": "python",
   "nbconvert_exporter": "python",
   "pygments_lexer": "ipython3",
   "version": "3.13.2"
  }
 },
 "nbformat": 4,
 "nbformat_minor": 2
}
